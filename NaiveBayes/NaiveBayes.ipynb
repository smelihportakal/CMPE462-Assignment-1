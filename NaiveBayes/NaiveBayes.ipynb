{
  "nbformat": 4,
  "nbformat_minor": 0,
  "metadata": {
    "colab": {
      "provenance": []
    },
    "kernelspec": {
      "name": "python3",
      "display_name": "Python 3"
    },
    "language_info": {
      "name": "python"
    }
  },
  "cells": [
    {
      "cell_type": "code",
      "execution_count": 143,
      "metadata": {
        "id": "wuRIQADW6Xas"
      },
      "outputs": [],
      "source": [
        "import numpy as np"
      ]
    },
    {
      "cell_type": "code",
      "source": [
        "data = np.genfromtxt('wdbc.data',delimiter=\",\", usecols=range(2, 32))\n",
        "results = np.genfromtxt('wdbc.data',delimiter=\",\", dtype=\"str\", usecols=(1))\n",
        "\n",
        "#np.random.seed(9) # This part is used to get same array when comparing naive bayes with logistic regression.\n",
        "train_ratio = 0.7\n",
        "train_size = int(len(data) * train_ratio)\n",
        "indices = np.arange(len(data))\n",
        "np.random.shuffle(indices)\n",
        "\n",
        "train_indices = indices[:train_size]\n",
        "train_data = data[train_indices]\n",
        "train_results = results[train_indices]\n",
        "\n",
        "test_indices = indices[train_size:]\n",
        "test_data = data[test_indices]\n",
        "test_results = results[test_indices]\n",
        "\n",
        "\n",
        "condition_m = (train_results == \"M\")\n",
        "condition_b = (train_results == \"B\")\n",
        "train_data_m = train_data[condition_m]\n",
        "train_data_b = train_data[condition_b]\n",
        "\n",
        "prior_m = len(train_data_m) / train_size\n",
        "prior_b = len(train_data_b) / train_size\n",
        "priors = [prior_m, prior_b]\n",
        "\n",
        "\n",
        "means_m = np.mean(train_data_m,axis=0)\n",
        "means_b = np.mean(train_data_b,axis=0)\n",
        "means = [means_m,means_b]\n",
        "\n",
        "std_m = np.std(train_data_m,axis=0)\n",
        "std_b = np.std(train_data_b,axis=0)\n",
        "stds = [std_m,std_b]\n",
        "\n",
        "\n"
      ],
      "metadata": {
        "id": "PLLPTZJLuvEX"
      },
      "execution_count": 144,
      "outputs": []
    },
    {
      "cell_type": "code",
      "source": [
        "def calculate_likelihood(feature_index, feature_value, y_index):\n",
        "  mean = means[y_index][feature_index]\n",
        "  std = stds[y_index][feature_index]\n",
        "  return (1 / (np.sqrt(2 * np.pi) * std)) * np.exp(- ((feature_value - mean)**2 / (2 * std**2)))\n"
      ],
      "metadata": {
        "id": "8Wsk6JXexOIn"
      },
      "execution_count": 145,
      "outputs": []
    },
    {
      "cell_type": "code",
      "source": [
        "def naive_bayes(single_data):\n",
        "  probForM=priors[0]\n",
        "  probForB=priors[1]\n",
        "  for feature in range(30):\n",
        "    probForM *= calculate_likelihood(feature,single_data[feature],0)\n",
        "\n",
        "  for feature in range(30):\n",
        "    probForB *= calculate_likelihood(feature,single_data[feature],1)\n",
        "\n",
        "  return (\"M\",probForM ) if probForM>probForB else (\"B\",probForB)\n"
      ],
      "metadata": {
        "id": "CrP8G2fteoIO"
      },
      "execution_count": 146,
      "outputs": []
    },
    {
      "cell_type": "code",
      "source": [
        "t=0\n",
        "f=0\n",
        "for index,d in enumerate(train_data):\n",
        "  r = naive_bayes(d)\n",
        "  if train_results[index] == r[0]:\n",
        "    t+=1\n",
        "  else:\n",
        "    f+=1\n",
        "\n",
        "print(t)\n",
        "print(f)\n",
        "print(t/ (t+f) * 100)"
      ],
      "metadata": {
        "id": "eWfIuBpzxSaG",
        "colab": {
          "base_uri": "https://localhost:8080/"
        },
        "outputId": "8092d3b5-da57-4b10-fa65-3777a9f5afc5"
      },
      "execution_count": 147,
      "outputs": [
        {
          "output_type": "stream",
          "name": "stdout",
          "text": [
            "373\n",
            "25\n",
            "93.71859296482413\n"
          ]
        }
      ]
    },
    {
      "cell_type": "code",
      "source": [
        "t=0\n",
        "f=0\n",
        "for index,d in enumerate(test_data):\n",
        "  r = naive_bayes(d)\n",
        "  if test_results[index] == r[0]:\n",
        "    t+=1\n",
        "  else:\n",
        "    f+=1\n",
        "\n",
        "print(t)\n",
        "print(f)\n",
        "print(t/ (t+f) * 100)"
      ],
      "metadata": {
        "colab": {
          "base_uri": "https://localhost:8080/"
        },
        "id": "RirRB-blxNIV",
        "outputId": "6dd22c13-cea1-44ca-8f1b-4a5132fed8aa"
      },
      "execution_count": 148,
      "outputs": [
        {
          "output_type": "stream",
          "name": "stdout",
          "text": [
            "156\n",
            "15\n",
            "91.22807017543859\n"
          ]
        }
      ]
    }
  ]
}